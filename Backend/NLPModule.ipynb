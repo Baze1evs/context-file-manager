{
  "nbformat": 4,
  "nbformat_minor": 0,
  "metadata": {
    "colab": {
      "provenance": []
    },
    "kernelspec": {
      "name": "python3",
      "display_name": "Python 3"
    },
    "accelerator": "GPU"
  },
  "cells": [
    {
      "cell_type": "markdown",
      "metadata": {
        "id": "K-BAqDEY4ldv"
      },
      "source": [
        "## Классификация текстовых документов"
      ]
    },
    {
      "cell_type": "code",
      "metadata": {
        "id": "fN251ib04idq"
      },
      "source": [
        "%tensorflow_version 2.x\n",
        "from tensorflow.keras.models import Sequential\n",
        "from tensorflow.keras.layers import Dense, Embedding, MaxPooling1D, Conv1D, GlobalMaxPooling1D, Dropout, LSTM, GRU\n",
        "from tensorflow.keras import utils\n",
        "from tensorflow.keras.preprocessing.sequence import pad_sequences\n",
        "from tensorflow.keras.preprocessing.text import Tokenizer\n",
        "from tensorflow.keras.callbacks import ModelCheckpoint\n",
        "from tensorflow.keras import utils\n",
        "from tensorflow.keras.preprocessing.text import tokenizer_from_json\n",
        "import io\n",
        "import json\n",
        "import pandas as pd\n",
        "import numpy as np\n",
        "import matplotlib.pyplot as plt\n",
        "%matplotlib inline "
      ],
      "execution_count": null,
      "outputs": []
    },
    {
      "cell_type": "code",
      "metadata": {
        "id": "KVUY1PF0L_mF"
      },
      "source": [
        "# Максимальное количество слов \n",
        "num_words = 14\n",
        "# Максимальная длина новости\n",
        "max_news_len = 10\n",
        "# Количество классов новостей\n",
        "nb_classes = 2"
      ],
      "execution_count": null,
      "outputs": []
    },
    {
      "cell_type": "markdown",
      "metadata": {
        "id": "9YjyMnJOHoSY"
      },
      "source": [
        "## Загружаем данные в память"
      ]
    },
    {
      "cell_type": "markdown",
      "metadata": {
        "id": "C6Hs3NIKKqEB"
      },
      "source": [
        "Читаем данные из файла"
      ]
    },
    {
      "cell_type": "code",
      "metadata": {
        "id": "viAteYU0HakW"
      },
      "source": [
        "train = pd.read_csv('train.csv', \n",
        "                    header=None, \n",
        "                    names=['class', 'text'])"
      ],
      "execution_count": null,
      "outputs": []
    },
    {
      "cell_type": "code",
      "metadata": {
        "id": "QTbvoCJxKpdr",
        "colab": {
          "base_uri": "https://localhost:8080/",
          "height": 204
        },
        "outputId": "18dac516-192a-47e5-a5b2-726898b54a4c"
      },
      "source": [
        "train[:5]"
      ],
      "execution_count": null,
      "outputs": [
        {
          "output_type": "execute_result",
          "data": {
            "text/html": [
              "<div>\n",
              "<style scoped>\n",
              "    .dataframe tbody tr th:only-of-type {\n",
              "        vertical-align: middle;\n",
              "    }\n",
              "\n",
              "    .dataframe tbody tr th {\n",
              "        vertical-align: top;\n",
              "    }\n",
              "\n",
              "    .dataframe thead th {\n",
              "        text-align: right;\n",
              "    }\n",
              "</style>\n",
              "<table border=\"1\" class=\"dataframe\">\n",
              "  <thead>\n",
              "    <tr style=\"text-align: right;\">\n",
              "      <th></th>\n",
              "      <th>class</th>\n",
              "      <th>text</th>\n",
              "    </tr>\n",
              "  </thead>\n",
              "  <tbody>\n",
              "    <tr>\n",
              "      <th>0</th>\n",
              "      <td>1</td>\n",
              "      <td>лабораторная цель вывод</td>\n",
              "    </tr>\n",
              "    <tr>\n",
              "      <th>1</th>\n",
              "      <td>1</td>\n",
              "      <td>лабораторной цель</td>\n",
              "    </tr>\n",
              "    <tr>\n",
              "      <th>2</th>\n",
              "      <td>1</td>\n",
              "      <td>лабораторной цель</td>\n",
              "    </tr>\n",
              "    <tr>\n",
              "      <th>3</th>\n",
              "      <td>1</td>\n",
              "      <td>лабораторная введение цель</td>\n",
              "    </tr>\n",
              "    <tr>\n",
              "      <th>4</th>\n",
              "      <td>1</td>\n",
              "      <td>лабораторная введение цель</td>\n",
              "    </tr>\n",
              "  </tbody>\n",
              "</table>\n",
              "</div>"
            ],
            "text/plain": [
              "   class                        text\n",
              "0      1     лабораторная цель вывод\n",
              "1      1           лабораторной цель\n",
              "2      1           лабораторной цель\n",
              "3      1  лабораторная введение цель\n",
              "4      1  лабораторная введение цель"
            ]
          },
          "metadata": {},
          "execution_count": 5
        }
      ]
    },
    {
      "cell_type": "markdown",
      "metadata": {
        "id": "gA0GvoWDKulp"
      },
      "source": [
        "Выделяем данные для обучения"
      ]
    },
    {
      "cell_type": "code",
      "metadata": {
        "id": "xKdpzAQKLUsh"
      },
      "source": [
        "news = train['text'].astype(str)"
      ],
      "execution_count": null,
      "outputs": []
    },
    {
      "cell_type": "code",
      "metadata": {
        "id": "3-13xctTLesU",
        "colab": {
          "base_uri": "https://localhost:8080/"
        },
        "outputId": "9b5d9364-fafa-4e28-cdd0-86e7ac4f85f8"
      },
      "source": [
        "news[:5]"
      ],
      "execution_count": null,
      "outputs": [
        {
          "output_type": "execute_result",
          "data": {
            "text/plain": [
              "0       лабораторная цель вывод\n",
              "1             лабораторной цель\n",
              "2             лабораторной цель\n",
              "3    лабораторная введение цель\n",
              "4    лабораторная введение цель\n",
              "Name: text, dtype: object"
            ]
          },
          "metadata": {},
          "execution_count": 7
        }
      ]
    },
    {
      "cell_type": "markdown",
      "metadata": {
        "id": "EyruZkQeLnPa"
      },
      "source": [
        "Выделяем правильные ответы"
      ]
    },
    {
      "cell_type": "code",
      "metadata": {
        "id": "5t_vJBSyIUoG"
      },
      "source": [
        "y_train = train['class'] - 1"
      ],
      "execution_count": null,
      "outputs": []
    },
    {
      "cell_type": "code",
      "metadata": {
        "id": "gmEgMdF5IbZR",
        "colab": {
          "base_uri": "https://localhost:8080/"
        },
        "outputId": "23198c5f-5f89-4939-d50b-216646ad876f"
      },
      "source": [
        "y_train[:5]"
      ],
      "execution_count": null,
      "outputs": [
        {
          "output_type": "execute_result",
          "data": {
            "text/plain": [
              "0    0\n",
              "1    0\n",
              "2    0\n",
              "3    0\n",
              "4    0\n",
              "Name: class, dtype: int64"
            ]
          },
          "metadata": {},
          "execution_count": 9
        }
      ]
    },
    {
      "cell_type": "markdown",
      "metadata": {
        "id": "7JuLOCqpLsNL"
      },
      "source": [
        "## Токенизация текста"
      ]
    },
    {
      "cell_type": "markdown",
      "metadata": {
        "id": "DTtBSvAfMusM"
      },
      "source": [
        "Создаем токенизатор Keras"
      ]
    },
    {
      "cell_type": "code",
      "metadata": {
        "id": "x-AUMyjMLw5T"
      },
      "source": [
        "tokenizer = Tokenizer(num_words=num_words)"
      ],
      "execution_count": null,
      "outputs": []
    },
    {
      "cell_type": "markdown",
      "metadata": {
        "id": "VIxY2pp-M2gw"
      },
      "source": [
        "Обучаем токенизатор"
      ]
    },
    {
      "cell_type": "code",
      "metadata": {
        "id": "RfsqlGJZM7HR"
      },
      "source": [
        "tokenizer.fit_on_texts(news)\n",
        "tokenizer_json = tokenizer.to_json()\n",
        "with io.open('tokenizer.json', 'w', encoding='utf-8') as f:\n",
        "    f.write(json.dumps(tokenizer_json, ensure_ascii=False))"
      ],
      "execution_count": null,
      "outputs": []
    },
    {
      "cell_type": "markdown",
      "metadata": {
        "id": "y6PqC28PND82"
      },
      "source": [
        "Просматриваем словарь токенизатора"
      ]
    },
    {
      "cell_type": "code",
      "metadata": {
        "id": "8mWcH0mUMcMU",
        "colab": {
          "base_uri": "https://localhost:8080/"
        },
        "outputId": "57674f9c-ddde-4ffa-e049-840c7659b665"
      },
      "source": [
        "tokenizer.word_index"
      ],
      "execution_count": null,
      "outputs": [
        {
          "output_type": "execute_result",
          "data": {
            "text/plain": [
              "{'nan': 15,\n",
              " 'вариант': 4,\n",
              " 'введение': 7,\n",
              " 'вывод': 6,\n",
              " 'доклад': 8,\n",
              " 'заключение': 10,\n",
              " 'использованных': 14,\n",
              " 'источников': 11,\n",
              " 'лабораторная': 3,\n",
              " 'лабораторной': 1,\n",
              " 'лабораторных': 13,\n",
              " 'оглавление': 12,\n",
              " 'содержание': 9,\n",
              " 'ход': 5,\n",
              " 'цель': 2}"
            ]
          },
          "metadata": {},
          "execution_count": 12
        }
      ]
    },
    {
      "cell_type": "markdown",
      "metadata": {
        "id": "s_nyPsVLNW-f"
      },
      "source": [
        "Преобразуем новости в числовое представление"
      ]
    },
    {
      "cell_type": "code",
      "metadata": {
        "id": "bMZ6e-zEJHr1"
      },
      "source": [
        "sequences = tokenizer.texts_to_sequences(news)"
      ],
      "execution_count": null,
      "outputs": []
    },
    {
      "cell_type": "markdown",
      "metadata": {
        "id": "aZ_NJ2SlNwMI"
      },
      "source": [
        "Просматриваем новости в числовом представлении"
      ]
    },
    {
      "cell_type": "code",
      "metadata": {
        "id": "xIUJvjguN0S0",
        "colab": {
          "base_uri": "https://localhost:8080/"
        },
        "outputId": "ac0cabd3-68ab-4469-bad5-e2017c9c1dea"
      },
      "source": [
        "index = 15\n",
        "print(news[index])\n",
        "print(sequences[index])"
      ],
      "execution_count": null,
      "outputs": [
        {
          "output_type": "stream",
          "name": "stdout",
          "text": [
            "лабораторной цель\n",
            "[1, 2]\n"
          ]
        }
      ]
    },
    {
      "cell_type": "code",
      "metadata": {
        "id": "sQn0O5kBtmyJ",
        "colab": {
          "base_uri": "https://localhost:8080/",
          "height": 35
        },
        "outputId": "88d3e6ff-4a78-45f1-c4dc-4cd7a9cee2ae"
      },
      "source": [
        "tokenizer.index_word[11]"
      ],
      "execution_count": null,
      "outputs": [
        {
          "output_type": "execute_result",
          "data": {
            "application/vnd.google.colaboratory.intrinsic+json": {
              "type": "string"
            },
            "text/plain": [
              "'источников'"
            ]
          },
          "metadata": {},
          "execution_count": 15
        }
      ]
    },
    {
      "cell_type": "markdown",
      "metadata": {
        "id": "neSZfrw3OYPx"
      },
      "source": [
        "Ограничиваем длину отзывов"
      ]
    },
    {
      "cell_type": "code",
      "metadata": {
        "id": "ZGLpcETkN3ex"
      },
      "source": [
        "x_train = pad_sequences(sequences, maxlen=max_news_len)"
      ],
      "execution_count": null,
      "outputs": []
    },
    {
      "cell_type": "code",
      "metadata": {
        "id": "mPW1VACmOrrm",
        "colab": {
          "base_uri": "https://localhost:8080/"
        },
        "outputId": "bd7a8166-b3d3-42ca-d324-81005781c79f"
      },
      "source": [
        "x_train[:5]"
      ],
      "execution_count": null,
      "outputs": [
        {
          "output_type": "execute_result",
          "data": {
            "text/plain": [
              "array([[0, 0, 0, 0, 0, 0, 0, 3, 2, 6],\n",
              "       [0, 0, 0, 0, 0, 0, 0, 0, 1, 2],\n",
              "       [0, 0, 0, 0, 0, 0, 0, 0, 1, 2],\n",
              "       [0, 0, 0, 0, 0, 0, 0, 3, 7, 2],\n",
              "       [0, 0, 0, 0, 0, 0, 0, 3, 7, 2]], dtype=int32)"
            ]
          },
          "metadata": {},
          "execution_count": 17
        }
      ]
    },
    {
      "cell_type": "markdown",
      "metadata": {
        "id": "ypBYfEwvO0c4"
      },
      "source": [
        "## Сверточная нейронная сеть"
      ]
    },
    {
      "cell_type": "code",
      "metadata": {
        "id": "8ETORhRkOtIn"
      },
      "source": [
        "model_cnn = Sequential()\n",
        "model_cnn.add(Embedding(num_words, 32, input_length=max_news_len))\n",
        "model_cnn.add(Conv1D(256, 5, padding='valid', activation='relu'))\n",
        "model_cnn.add(GlobalMaxPooling1D())\n",
        "model_cnn.add(Dense(128, activation='relu'))\n",
        "model_cnn.add(Dense(1, activation='sigmoid'))"
      ],
      "execution_count": null,
      "outputs": []
    },
    {
      "cell_type": "code",
      "metadata": {
        "id": "rzds0iUgPLwS"
      },
      "source": [
        "model_cnn.compile(optimizer='adam', \n",
        "              loss='binary_crossentropy', \n",
        "              metrics=['accuracy'])"
      ],
      "execution_count": null,
      "outputs": []
    },
    {
      "cell_type": "code",
      "metadata": {
        "id": "wpVCjslL4En2",
        "colab": {
          "base_uri": "https://localhost:8080/"
        },
        "outputId": "0bf1ff95-e3a2-4b81-b631-ed0ba4d2fc07"
      },
      "source": [
        "model_cnn.summary()"
      ],
      "execution_count": null,
      "outputs": [
        {
          "output_type": "stream",
          "name": "stdout",
          "text": [
            "Model: \"sequential\"\n",
            "_________________________________________________________________\n",
            "Layer (type)                 Output Shape              Param #   \n",
            "=================================================================\n",
            "embedding (Embedding)        (None, 10, 32)            448       \n",
            "_________________________________________________________________\n",
            "conv1d (Conv1D)              (None, 6, 256)            41216     \n",
            "_________________________________________________________________\n",
            "global_max_pooling1d (Global (None, 256)               0         \n",
            "_________________________________________________________________\n",
            "dense (Dense)                (None, 128)               32896     \n",
            "_________________________________________________________________\n",
            "dense_1 (Dense)              (None, 1)                 129       \n",
            "=================================================================\n",
            "Total params: 74,689\n",
            "Trainable params: 74,689\n",
            "Non-trainable params: 0\n",
            "_________________________________________________________________\n"
          ]
        }
      ]
    },
    {
      "cell_type": "markdown",
      "metadata": {
        "id": "GYw-jNpW9-40"
      },
      "source": [
        "Создаем callback для сохранения нейронной сети на каждой эпохе, если качество работы на проверочном наборе данных улучшилось. Сеть сохраняется в файл `best_model.h5`"
      ]
    },
    {
      "cell_type": "code",
      "metadata": {
        "id": "inD4DaNdWgpL"
      },
      "source": [
        "model_cnn_save_path = 'best_model_cnn.h5'\n",
        "checkpoint_callback_cnn = ModelCheckpoint(model_cnn_save_path, \n",
        "                                      monitor='val_accuracy',\n",
        "                                      save_best_only=True,\n",
        "                                      verbose=1)"
      ],
      "execution_count": null,
      "outputs": []
    },
    {
      "cell_type": "code",
      "metadata": {
        "id": "3RjBsU8_PSqp",
        "colab": {
          "base_uri": "https://localhost:8080/"
        },
        "outputId": "2c9edd04-0738-46ac-8d64-e0f26a9c0020"
      },
      "source": [
        "history_cnn = model_cnn.fit(x_train, \n",
        "                            y_train, \n",
        "                            epochs=10,\n",
        "                            validation_split = 0.1,\n",
        "                            callbacks=[checkpoint_callback_cnn])"
      ],
      "execution_count": null,
      "outputs": [
        {
          "output_type": "stream",
          "name": "stdout",
          "text": [
            "Epoch 1/10\n",
            "16/16 [==============================] - 31s 22ms/step - loss: 0.4777 - accuracy: 0.9035 - val_loss: 0.1815 - val_accuracy: 0.9636\n",
            "\n",
            "Epoch 00001: val_accuracy improved from -inf to 0.96364, saving model to best_model_cnn.h5\n",
            "Epoch 2/10\n",
            "16/16 [==============================] - 0s 7ms/step - loss: 0.1710 - accuracy: 0.9528 - val_loss: 0.1304 - val_accuracy: 0.9636\n",
            "\n",
            "Epoch 00002: val_accuracy did not improve from 0.96364\n",
            "Epoch 3/10\n",
            "16/16 [==============================] - 0s 7ms/step - loss: 0.1364 - accuracy: 0.9528 - val_loss: 0.0885 - val_accuracy: 0.9636\n",
            "\n",
            "Epoch 00003: val_accuracy did not improve from 0.96364\n",
            "Epoch 4/10\n",
            "16/16 [==============================] - 0s 8ms/step - loss: 0.0864 - accuracy: 0.9528 - val_loss: 0.0445 - val_accuracy: 0.9636\n",
            "\n",
            "Epoch 00004: val_accuracy did not improve from 0.96364\n",
            "Epoch 5/10\n",
            "16/16 [==============================] - 0s 7ms/step - loss: 0.0452 - accuracy: 0.9754 - val_loss: 0.0223 - val_accuracy: 1.0000\n",
            "\n",
            "Epoch 00005: val_accuracy improved from 0.96364 to 1.00000, saving model to best_model_cnn.h5\n",
            "Epoch 6/10\n",
            "16/16 [==============================] - 0s 7ms/step - loss: 0.0268 - accuracy: 0.9959 - val_loss: 0.0120 - val_accuracy: 1.0000\n",
            "\n",
            "Epoch 00006: val_accuracy did not improve from 1.00000\n",
            "Epoch 7/10\n",
            "16/16 [==============================] - 0s 7ms/step - loss: 0.0141 - accuracy: 0.9979 - val_loss: 0.0043 - val_accuracy: 1.0000\n",
            "\n",
            "Epoch 00007: val_accuracy did not improve from 1.00000\n",
            "Epoch 8/10\n",
            "16/16 [==============================] - 0s 7ms/step - loss: 0.0064 - accuracy: 0.9979 - val_loss: 0.0015 - val_accuracy: 1.0000\n",
            "\n",
            "Epoch 00008: val_accuracy did not improve from 1.00000\n",
            "Epoch 9/10\n",
            "16/16 [==============================] - 0s 8ms/step - loss: 0.0032 - accuracy: 1.0000 - val_loss: 5.3987e-04 - val_accuracy: 1.0000\n",
            "\n",
            "Epoch 00009: val_accuracy did not improve from 1.00000\n",
            "Epoch 10/10\n",
            "16/16 [==============================] - 0s 7ms/step - loss: 0.0023 - accuracy: 1.0000 - val_loss: 3.0005e-04 - val_accuracy: 1.0000\n",
            "\n",
            "Epoch 00010: val_accuracy did not improve from 1.00000\n"
          ]
        }
      ]
    },
    {
      "cell_type": "markdown",
      "metadata": {
        "id": "VFUTMuKL8SNY"
      },
      "source": [
        "## Cеть LSTM"
      ]
    },
    {
      "cell_type": "code",
      "metadata": {
        "id": "s_ZqIgqS8SNa"
      },
      "source": [
        "model_lstm = Sequential()\n",
        "model_lstm.add(Embedding(num_words, 32, input_length=max_news_len))\n",
        "model_lstm.add(LSTM(16))\n",
        "model_lstm.add(Dense(1, activation='sigmoid'))"
      ],
      "execution_count": null,
      "outputs": []
    },
    {
      "cell_type": "code",
      "metadata": {
        "id": "IoxJ8kNf8SNc"
      },
      "source": [
        "model_lstm.compile(optimizer='adam', \n",
        "              loss='binary_crossentropy', \n",
        "              metrics=['accuracy'])"
      ],
      "execution_count": null,
      "outputs": []
    },
    {
      "cell_type": "code",
      "metadata": {
        "id": "KNc2OK3j8SNe",
        "colab": {
          "base_uri": "https://localhost:8080/"
        },
        "outputId": "7c7793b6-c903-4b33-8657-36ae09592b44"
      },
      "source": [
        "model_lstm.summary()"
      ],
      "execution_count": null,
      "outputs": [
        {
          "output_type": "stream",
          "name": "stdout",
          "text": [
            "Model: \"sequential_1\"\n",
            "_________________________________________________________________\n",
            "Layer (type)                 Output Shape              Param #   \n",
            "=================================================================\n",
            "embedding_1 (Embedding)      (None, 10, 32)            448       \n",
            "_________________________________________________________________\n",
            "lstm (LSTM)                  (None, 16)                3136      \n",
            "_________________________________________________________________\n",
            "dense_2 (Dense)              (None, 1)                 17        \n",
            "=================================================================\n",
            "Total params: 3,601\n",
            "Trainable params: 3,601\n",
            "Non-trainable params: 0\n",
            "_________________________________________________________________\n"
          ]
        }
      ]
    },
    {
      "cell_type": "markdown",
      "metadata": {
        "id": "KzJtvcIa8SNh"
      },
      "source": [
        "Создаем callback для сохранения нейронной сети на каждой эпохе, если качество работы на проверочном наборе данных улучшилось. Сеть сохраняется в файл `best_model.h5`"
      ]
    },
    {
      "cell_type": "code",
      "metadata": {
        "id": "qCu0Xlyj8SNi"
      },
      "source": [
        "model_lstm_save_path = 'best_model_lstm.h5'\n",
        "checkpoint_callback_lstm = ModelCheckpoint(model_lstm_save_path, \n",
        "                                      monitor='val_accuracy',\n",
        "                                      save_best_only=True,\n",
        "                                      verbose=1)"
      ],
      "execution_count": null,
      "outputs": []
    },
    {
      "cell_type": "code",
      "metadata": {
        "id": "znNeO0lO8SNk",
        "colab": {
          "base_uri": "https://localhost:8080/"
        },
        "outputId": "29cdf029-329e-49ed-b055-2c13e910dc40"
      },
      "source": [
        "history_lstm = model_lstm.fit(x_train, \n",
        "                              y_train, \n",
        "                              epochs=10,\n",
        "                              validation_split = 0.1,\n",
        "                              callbacks=[checkpoint_callback_lstm])"
      ],
      "execution_count": null,
      "outputs": [
        {
          "output_type": "stream",
          "name": "stdout",
          "text": [
            "Epoch 1/10\n",
            "16/16 [==============================] - 3s 42ms/step - loss: 0.6498 - accuracy: 0.9405 - val_loss: 0.5866 - val_accuracy: 0.9636\n",
            "\n",
            "Epoch 00001: val_accuracy improved from -inf to 0.96364, saving model to best_model_lstm.h5\n",
            "Epoch 2/10\n",
            "16/16 [==============================] - 0s 8ms/step - loss: 0.5149 - accuracy: 0.9528 - val_loss: 0.3780 - val_accuracy: 0.9636\n",
            "\n",
            "Epoch 00002: val_accuracy did not improve from 0.96364\n",
            "Epoch 3/10\n",
            "16/16 [==============================] - 0s 8ms/step - loss: 0.2708 - accuracy: 0.9528 - val_loss: 0.1488 - val_accuracy: 0.9636\n",
            "\n",
            "Epoch 00003: val_accuracy did not improve from 0.96364\n",
            "Epoch 4/10\n",
            "16/16 [==============================] - 0s 7ms/step - loss: 0.1608 - accuracy: 0.9528 - val_loss: 0.1282 - val_accuracy: 0.9636\n",
            "\n",
            "Epoch 00004: val_accuracy did not improve from 0.96364\n",
            "Epoch 5/10\n",
            "16/16 [==============================] - 0s 9ms/step - loss: 0.1473 - accuracy: 0.9528 - val_loss: 0.1101 - val_accuracy: 0.9636\n",
            "\n",
            "Epoch 00005: val_accuracy did not improve from 0.96364\n",
            "Epoch 6/10\n",
            "16/16 [==============================] - 0s 8ms/step - loss: 0.1278 - accuracy: 0.9528 - val_loss: 0.0875 - val_accuracy: 0.9636\n",
            "\n",
            "Epoch 00006: val_accuracy did not improve from 0.96364\n",
            "Epoch 7/10\n",
            "16/16 [==============================] - 0s 7ms/step - loss: 0.1082 - accuracy: 0.9630 - val_loss: 0.0706 - val_accuracy: 0.9636\n",
            "\n",
            "Epoch 00007: val_accuracy did not improve from 0.96364\n",
            "Epoch 8/10\n",
            "16/16 [==============================] - 0s 9ms/step - loss: 0.0930 - accuracy: 0.9651 - val_loss: 0.0557 - val_accuracy: 0.9636\n",
            "\n",
            "Epoch 00008: val_accuracy did not improve from 0.96364\n",
            "Epoch 9/10\n",
            "16/16 [==============================] - 0s 8ms/step - loss: 0.0783 - accuracy: 0.9713 - val_loss: 0.0443 - val_accuracy: 1.0000\n",
            "\n",
            "Epoch 00009: val_accuracy improved from 0.96364 to 1.00000, saving model to best_model_lstm.h5\n",
            "Epoch 10/10\n",
            "16/16 [==============================] - 0s 8ms/step - loss: 0.0664 - accuracy: 0.9733 - val_loss: 0.0381 - val_accuracy: 1.0000\n",
            "\n",
            "Epoch 00010: val_accuracy did not improve from 1.00000\n"
          ]
        }
      ]
    },
    {
      "cell_type": "markdown",
      "metadata": {
        "id": "rKlSelFd9N7X"
      },
      "source": [
        "## Cеть GRU"
      ]
    },
    {
      "cell_type": "code",
      "metadata": {
        "id": "cX6ixo129N7Y"
      },
      "source": [
        "model_gru = Sequential()\n",
        "model_gru.add(Embedding(num_words, 32, input_length=max_news_len))\n",
        "model_gru.add(GRU(16))\n",
        "model_gru.add(Dense(1, activation='sigmoid'))"
      ],
      "execution_count": null,
      "outputs": []
    },
    {
      "cell_type": "code",
      "metadata": {
        "id": "x6jjohYc9N7a"
      },
      "source": [
        "model_gru.compile(optimizer='adam', \n",
        "              loss='binary_crossentropy', \n",
        "              metrics=['accuracy'])"
      ],
      "execution_count": null,
      "outputs": []
    },
    {
      "cell_type": "code",
      "metadata": {
        "id": "O5hVTQ389N7c",
        "colab": {
          "base_uri": "https://localhost:8080/"
        },
        "outputId": "6beafa68-0de8-46b9-be21-e9efb873aa1b"
      },
      "source": [
        "model_gru.summary()"
      ],
      "execution_count": null,
      "outputs": [
        {
          "output_type": "stream",
          "name": "stdout",
          "text": [
            "Model: \"sequential_2\"\n",
            "_________________________________________________________________\n",
            "Layer (type)                 Output Shape              Param #   \n",
            "=================================================================\n",
            "embedding_2 (Embedding)      (None, 10, 32)            448       \n",
            "_________________________________________________________________\n",
            "gru (GRU)                    (None, 16)                2400      \n",
            "_________________________________________________________________\n",
            "dense_3 (Dense)              (None, 1)                 17        \n",
            "=================================================================\n",
            "Total params: 2,865\n",
            "Trainable params: 2,865\n",
            "Non-trainable params: 0\n",
            "_________________________________________________________________\n"
          ]
        }
      ]
    },
    {
      "cell_type": "markdown",
      "metadata": {
        "id": "fT4H-dh99N7f"
      },
      "source": [
        "Создаем callback для сохранения нейронной сети на каждой эпохе, если качество работы на проверочном наборе данных улучшилось. Сеть сохраняется в файл `best_model_gru.h5`"
      ]
    },
    {
      "cell_type": "code",
      "metadata": {
        "id": "gVkz3fpH9N7f"
      },
      "source": [
        "model_gru_save_path = 'best_model_gru.h5'\n",
        "checkpoint_callback_gru = ModelCheckpoint(model_gru_save_path, \n",
        "                                      monitor='val_accuracy',\n",
        "                                      save_best_only=True,\n",
        "                                      verbose=1)"
      ],
      "execution_count": null,
      "outputs": []
    },
    {
      "cell_type": "code",
      "metadata": {
        "id": "RjIx2P-S9N7h",
        "colab": {
          "base_uri": "https://localhost:8080/"
        },
        "outputId": "8dd23681-d5d4-431e-f391-6df87b4d538e"
      },
      "source": [
        "history_gru = model_gru.fit(x_train, \n",
        "                              y_train, \n",
        "                              epochs=10,\n",
        "                            validation_split = 0.1,\n",
        "                              callbacks=[checkpoint_callback_gru])"
      ],
      "execution_count": null,
      "outputs": [
        {
          "output_type": "stream",
          "name": "stdout",
          "text": [
            "Epoch 1/10\n",
            "16/16 [==============================] - 3s 38ms/step - loss: 0.6525 - accuracy: 0.8296 - val_loss: 0.5819 - val_accuracy: 0.9636\n",
            "\n",
            "Epoch 00001: val_accuracy improved from -inf to 0.96364, saving model to best_model_gru.h5\n",
            "Epoch 2/10\n",
            "16/16 [==============================] - 0s 8ms/step - loss: 0.5144 - accuracy: 0.9528 - val_loss: 0.4081 - val_accuracy: 0.9636\n",
            "\n",
            "Epoch 00002: val_accuracy did not improve from 0.96364\n",
            "Epoch 3/10\n",
            "16/16 [==============================] - 0s 8ms/step - loss: 0.3189 - accuracy: 0.9528 - val_loss: 0.1855 - val_accuracy: 0.9636\n",
            "\n",
            "Epoch 00003: val_accuracy did not improve from 0.96364\n",
            "Epoch 4/10\n",
            "16/16 [==============================] - 0s 7ms/step - loss: 0.1495 - accuracy: 0.9528 - val_loss: 0.0904 - val_accuracy: 0.9636\n",
            "\n",
            "Epoch 00004: val_accuracy did not improve from 0.96364\n",
            "Epoch 5/10\n",
            "16/16 [==============================] - 0s 7ms/step - loss: 0.1072 - accuracy: 0.9548 - val_loss: 0.0649 - val_accuracy: 0.9636\n",
            "\n",
            "Epoch 00005: val_accuracy did not improve from 0.96364\n",
            "Epoch 6/10\n",
            "16/16 [==============================] - 0s 7ms/step - loss: 0.0805 - accuracy: 0.9671 - val_loss: 0.0447 - val_accuracy: 1.0000\n",
            "\n",
            "Epoch 00006: val_accuracy improved from 0.96364 to 1.00000, saving model to best_model_gru.h5\n",
            "Epoch 7/10\n",
            "16/16 [==============================] - 0s 8ms/step - loss: 0.0598 - accuracy: 0.9774 - val_loss: 0.0311 - val_accuracy: 1.0000\n",
            "\n",
            "Epoch 00007: val_accuracy did not improve from 1.00000\n",
            "Epoch 8/10\n",
            "16/16 [==============================] - 0s 7ms/step - loss: 0.0443 - accuracy: 0.9897 - val_loss: 0.0210 - val_accuracy: 1.0000\n",
            "\n",
            "Epoch 00008: val_accuracy did not improve from 1.00000\n",
            "Epoch 9/10\n",
            "16/16 [==============================] - 0s 8ms/step - loss: 0.0337 - accuracy: 0.9938 - val_loss: 0.0149 - val_accuracy: 1.0000\n",
            "\n",
            "Epoch 00009: val_accuracy did not improve from 1.00000\n",
            "Epoch 10/10\n",
            "16/16 [==============================] - 0s 8ms/step - loss: 0.0266 - accuracy: 0.9938 - val_loss: 0.0115 - val_accuracy: 1.0000\n",
            "\n",
            "Epoch 00010: val_accuracy did not improve from 1.00000\n"
          ]
        }
      ]
    },
    {
      "cell_type": "markdown",
      "metadata": {
        "id": "2VQwj0bZfKT0"
      },
      "source": [
        "# Сеть кринж"
      ]
    },
    {
      "cell_type": "code",
      "metadata": {
        "id": "Dlg8HZ3efQkx"
      },
      "source": [
        "model = Sequential()\n",
        "model.add(Dense(max_news_len))\n",
        "model.add(Dense(2 * max_news_len))\n",
        "model.add(Dense(max_news_len / 2))\n",
        "model.add(Dense(1, activation='sigmoid'))"
      ],
      "execution_count": null,
      "outputs": []
    },
    {
      "cell_type": "code",
      "metadata": {
        "id": "4nssFHtKfWC1"
      },
      "source": [
        "model.compile(optimizer='adam', \n",
        "              loss='binary_crossentropy', \n",
        "              metrics=['accuracy'])"
      ],
      "execution_count": null,
      "outputs": []
    },
    {
      "cell_type": "code",
      "metadata": {
        "id": "Zp3y5vrAfY_R"
      },
      "source": [
        "model_save_path = 'best_model.h5'\n",
        "checkpoint_callback = ModelCheckpoint(model_save_path, \n",
        "                                      monitor='val_accuracy',\n",
        "                                      save_best_only=True,\n",
        "                                      verbose=1)"
      ],
      "execution_count": null,
      "outputs": []
    },
    {
      "cell_type": "code",
      "metadata": {
        "id": "URNnkKnffZ51",
        "colab": {
          "base_uri": "https://localhost:8080/"
        },
        "outputId": "02fd82f6-92e4-4c2b-ea71-05e676da86af"
      },
      "source": [
        "history = model.fit(x_train, \n",
        "                              y_train, \n",
        "                              epochs=10,\n",
        "                    validation_split = 0.1,\n",
        "                              callbacks=[checkpoint_callback])"
      ],
      "execution_count": null,
      "outputs": [
        {
          "output_type": "stream",
          "name": "stdout",
          "text": [
            "Epoch 1/10\n",
            "16/16 [==============================] - 1s 17ms/step - loss: 0.7166 - accuracy: 0.7084 - val_loss: 0.2803 - val_accuracy: 0.8545\n",
            "\n",
            "Epoch 00001: val_accuracy improved from -inf to 0.85455, saving model to best_model.h5\n",
            "Epoch 2/10\n",
            "16/16 [==============================] - 0s 6ms/step - loss: 0.4763 - accuracy: 0.9343 - val_loss: 0.3040 - val_accuracy: 0.9636\n",
            "\n",
            "Epoch 00002: val_accuracy improved from 0.85455 to 0.96364, saving model to best_model.h5\n",
            "Epoch 3/10\n",
            "16/16 [==============================] - 0s 5ms/step - loss: 0.4099 - accuracy: 0.9507 - val_loss: 0.3049 - val_accuracy: 0.9636\n",
            "\n",
            "Epoch 00003: val_accuracy did not improve from 0.96364\n",
            "Epoch 4/10\n",
            "16/16 [==============================] - 0s 5ms/step - loss: 0.3667 - accuracy: 0.9446 - val_loss: 0.3050 - val_accuracy: 0.9636\n",
            "\n",
            "Epoch 00004: val_accuracy did not improve from 0.96364\n",
            "Epoch 5/10\n",
            "16/16 [==============================] - 0s 5ms/step - loss: 0.3389 - accuracy: 0.9487 - val_loss: 0.3159 - val_accuracy: 0.9636\n",
            "\n",
            "Epoch 00005: val_accuracy did not improve from 0.96364\n",
            "Epoch 6/10\n",
            "16/16 [==============================] - 0s 5ms/step - loss: 0.3186 - accuracy: 0.9487 - val_loss: 0.3135 - val_accuracy: 0.9636\n",
            "\n",
            "Epoch 00006: val_accuracy did not improve from 0.96364\n",
            "Epoch 7/10\n",
            "16/16 [==============================] - 0s 5ms/step - loss: 0.3002 - accuracy: 0.9487 - val_loss: 0.3082 - val_accuracy: 0.9636\n",
            "\n",
            "Epoch 00007: val_accuracy did not improve from 0.96364\n",
            "Epoch 8/10\n",
            "16/16 [==============================] - 0s 6ms/step - loss: 0.2880 - accuracy: 0.9569 - val_loss: 0.3004 - val_accuracy: 0.9636\n",
            "\n",
            "Epoch 00008: val_accuracy did not improve from 0.96364\n",
            "Epoch 9/10\n",
            "16/16 [==============================] - 0s 5ms/step - loss: 0.2767 - accuracy: 0.9569 - val_loss: 0.2954 - val_accuracy: 0.9636\n",
            "\n",
            "Epoch 00009: val_accuracy did not improve from 0.96364\n",
            "Epoch 10/10\n",
            "16/16 [==============================] - 0s 5ms/step - loss: 0.2680 - accuracy: 0.9569 - val_loss: 0.2897 - val_accuracy: 0.9636\n",
            "\n",
            "Epoch 00010: val_accuracy did not improve from 0.96364\n"
          ]
        }
      ]
    },
    {
      "cell_type": "markdown",
      "metadata": {
        "id": "Ma51nugyR5Ct"
      },
      "source": [
        "## Загружаем набор данных для тестирования"
      ]
    },
    {
      "cell_type": "code",
      "metadata": {
        "id": "0OQ9iHYWYJ7G"
      },
      "source": [
        "test = pd.read_csv('test.csv', \n",
        "                    header=None, \n",
        "                    names=['class', 'text'])"
      ],
      "execution_count": null,
      "outputs": []
    },
    {
      "cell_type": "code",
      "metadata": {
        "id": "4W8Exe9nYYC6",
        "colab": {
          "base_uri": "https://localhost:8080/",
          "height": 204
        },
        "outputId": "d85e35fb-bbfa-40d0-95b3-c6a1f952aebe"
      },
      "source": [
        "test[:5]"
      ],
      "execution_count": null,
      "outputs": [
        {
          "output_type": "execute_result",
          "data": {
            "text/html": [
              "<div>\n",
              "<style scoped>\n",
              "    .dataframe tbody tr th:only-of-type {\n",
              "        vertical-align: middle;\n",
              "    }\n",
              "\n",
              "    .dataframe tbody tr th {\n",
              "        vertical-align: top;\n",
              "    }\n",
              "\n",
              "    .dataframe thead th {\n",
              "        text-align: right;\n",
              "    }\n",
              "</style>\n",
              "<table border=\"1\" class=\"dataframe\">\n",
              "  <thead>\n",
              "    <tr style=\"text-align: right;\">\n",
              "      <th></th>\n",
              "      <th>class</th>\n",
              "      <th>text</th>\n",
              "    </tr>\n",
              "  </thead>\n",
              "  <tbody>\n",
              "    <tr>\n",
              "      <th>0</th>\n",
              "      <td>1</td>\n",
              "      <td>лабораторной введение введение ход</td>\n",
              "    </tr>\n",
              "    <tr>\n",
              "      <th>1</th>\n",
              "      <td>1</td>\n",
              "      <td>лабораторной введение цель ход вывод</td>\n",
              "    </tr>\n",
              "    <tr>\n",
              "      <th>2</th>\n",
              "      <td>1</td>\n",
              "      <td>лабораторной введение цель</td>\n",
              "    </tr>\n",
              "    <tr>\n",
              "      <th>3</th>\n",
              "      <td>1</td>\n",
              "      <td>лабораторная вариант цель цель цель лабораторн...</td>\n",
              "    </tr>\n",
              "    <tr>\n",
              "      <th>4</th>\n",
              "      <td>1</td>\n",
              "      <td>лабораторной цель ход</td>\n",
              "    </tr>\n",
              "  </tbody>\n",
              "</table>\n",
              "</div>"
            ],
            "text/plain": [
              "   class                                               text\n",
              "0      1                 лабораторной введение введение ход\n",
              "1      1               лабораторной введение цель ход вывод\n",
              "2      1                         лабораторной введение цель\n",
              "3      1  лабораторная вариант цель цель цель лабораторн...\n",
              "4      1                              лабораторной цель ход"
            ]
          },
          "metadata": {},
          "execution_count": 38
        }
      ]
    },
    {
      "cell_type": "markdown",
      "metadata": {
        "id": "xgEjSpX5biaJ"
      },
      "source": [
        "Преобразуем новости в числовое представление\n",
        "\n",
        "Обратите внимание, что нужно использовать токенизатор, обученный на наборе данных train."
      ]
    },
    {
      "cell_type": "code",
      "metadata": {
        "id": "wE8JtIgybvLx"
      },
      "source": [
        "test_sequences = tokenizer.texts_to_sequences(test['text'])"
      ],
      "execution_count": null,
      "outputs": []
    },
    {
      "cell_type": "code",
      "metadata": {
        "id": "haKQPtc-byBf"
      },
      "source": [
        "x_test = pad_sequences(test_sequences, maxlen=max_news_len)"
      ],
      "execution_count": null,
      "outputs": []
    },
    {
      "cell_type": "code",
      "metadata": {
        "id": "LQsqVZedb-Qf",
        "colab": {
          "base_uri": "https://localhost:8080/"
        },
        "outputId": "9fa15a26-3599-4dd7-e17d-b91a714b6f7f"
      },
      "source": [
        "x_test[:5]"
      ],
      "execution_count": null,
      "outputs": [
        {
          "output_type": "execute_result",
          "data": {
            "text/plain": [
              "array([[0, 0, 0, 0, 0, 0, 1, 7, 7, 5],\n",
              "       [0, 0, 0, 0, 0, 1, 7, 2, 5, 6],\n",
              "       [0, 0, 0, 0, 0, 0, 0, 1, 7, 2],\n",
              "       [0, 3, 4, 2, 2, 2, 1, 2, 4, 5],\n",
              "       [0, 0, 0, 0, 0, 0, 0, 1, 2, 5]], dtype=int32)"
            ]
          },
          "metadata": {},
          "execution_count": 41
        }
      ]
    },
    {
      "cell_type": "markdown",
      "metadata": {
        "id": "afswW4zVcPfT"
      },
      "source": [
        "Правильные ответы"
      ]
    },
    {
      "cell_type": "code",
      "metadata": {
        "id": "tsdQdcvBcFsv"
      },
      "source": [
        "y_test = test['class'] - 1"
      ],
      "execution_count": null,
      "outputs": []
    },
    {
      "cell_type": "code",
      "metadata": {
        "id": "86TiWSg8cYkI",
        "colab": {
          "base_uri": "https://localhost:8080/"
        },
        "outputId": "9563d54f-68f9-4e77-b290-1ee560c911e5"
      },
      "source": [
        "y_test[:5]"
      ],
      "execution_count": null,
      "outputs": [
        {
          "output_type": "execute_result",
          "data": {
            "text/plain": [
              "0    0\n",
              "1    0\n",
              "2    0\n",
              "3    0\n",
              "4    0\n",
              "Name: class, dtype: int64"
            ]
          },
          "metadata": {},
          "execution_count": 43
        }
      ]
    },
    {
      "cell_type": "markdown",
      "metadata": {
        "id": "3DJbzO3ucewV"
      },
      "source": [
        "## Оцениваем качество работы сети на тестовом наборе данных"
      ]
    },
    {
      "cell_type": "markdown",
      "metadata": {
        "id": "5XYdOGmL_szI"
      },
      "source": [
        "### Одномерная сверточная сеть "
      ]
    },
    {
      "cell_type": "code",
      "metadata": {
        "id": "-HUt8GsfAM4z"
      },
      "source": [
        "model_cnn.load_weights(model_cnn_save_path)"
      ],
      "execution_count": null,
      "outputs": []
    },
    {
      "cell_type": "code",
      "metadata": {
        "id": "MkFvNfFPcaPX",
        "colab": {
          "base_uri": "https://localhost:8080/"
        },
        "outputId": "028ffe27-c036-4e95-9433-9490c9a36ad8"
      },
      "source": [
        "model_cnn.evaluate(x_test, y_test, verbose=1)\n",
        "pred1 = model_cnn.predict(x_test)\n",
        "pred1"
      ],
      "execution_count": null,
      "outputs": [
        {
          "output_type": "stream",
          "name": "stdout",
          "text": [
            "2/2 [==============================] - 0s 18ms/step - loss: 0.1381 - accuracy: 0.8519\n"
          ]
        },
        {
          "output_type": "execute_result",
          "data": {
            "text/plain": [
              "array([[3.69640924e-02],\n",
              "       [3.80210043e-03],\n",
              "       [1.06385089e-02],\n",
              "       [4.16847179e-04],\n",
              "       [8.56326078e-04],\n",
              "       [5.85839711e-03],\n",
              "       [5.72579801e-01],\n",
              "       [3.02590802e-03],\n",
              "       [2.22884351e-03],\n",
              "       [1.33530854e-03],\n",
              "       [2.45684059e-03],\n",
              "       [3.69640924e-02],\n",
              "       [5.08417422e-03],\n",
              "       [4.67566191e-04],\n",
              "       [7.00602448e-03],\n",
              "       [2.00568559e-03],\n",
              "       [4.51854803e-03],\n",
              "       [6.96980627e-03],\n",
              "       [3.69640924e-02],\n",
              "       [4.11825888e-02],\n",
              "       [3.69640924e-02],\n",
              "       [1.06148515e-02],\n",
              "       [5.69728017e-01],\n",
              "       [3.69640924e-02],\n",
              "       [1.45952462e-03],\n",
              "       [5.32368779e-01],\n",
              "       [1.11685600e-03],\n",
              "       [1.33530854e-03],\n",
              "       [6.59374744e-02],\n",
              "       [1.11685600e-03],\n",
              "       [1.06148515e-02],\n",
              "       [1.33530854e-03],\n",
              "       [1.47221722e-02],\n",
              "       [3.69640924e-02],\n",
              "       [1.33530854e-03],\n",
              "       [5.18327415e-01],\n",
              "       [4.11825888e-02],\n",
              "       [3.21158580e-02],\n",
              "       [1.33530854e-03],\n",
              "       [1.33530854e-03],\n",
              "       [5.70337296e-01],\n",
              "       [5.82129478e-01],\n",
              "       [6.59374744e-02],\n",
              "       [2.00568559e-03],\n",
              "       [3.00296932e-04],\n",
              "       [6.17976665e-01],\n",
              "       [3.69640924e-02],\n",
              "       [8.77608720e-04],\n",
              "       [2.04000506e-03],\n",
              "       [8.69041309e-03],\n",
              "       [7.86387187e-04],\n",
              "       [8.69041309e-03],\n",
              "       [6.13184392e-01],\n",
              "       [3.02590802e-03]], dtype=float32)"
            ]
          },
          "metadata": {},
          "execution_count": 45
        }
      ]
    },
    {
      "cell_type": "markdown",
      "metadata": {
        "id": "YHs8Q5vqAlqC"
      },
      "source": [
        "### Сеть LSTM"
      ]
    },
    {
      "cell_type": "code",
      "metadata": {
        "id": "OEzSL_M-ApHx"
      },
      "source": [
        "model_lstm.load_weights(model_lstm_save_path)"
      ],
      "execution_count": null,
      "outputs": []
    },
    {
      "cell_type": "code",
      "metadata": {
        "id": "fcGg4jA9AqN4",
        "colab": {
          "base_uri": "https://localhost:8080/"
        },
        "outputId": "88c96fca-45ac-4331-ee52-ab963f9d88b7"
      },
      "source": [
        "model_lstm.evaluate(x_test, y_test, verbose=1)"
      ],
      "execution_count": null,
      "outputs": [
        {
          "output_type": "stream",
          "name": "stdout",
          "text": [
            "2/2 [==============================] - 0s 8ms/step - loss: 0.1210 - accuracy: 0.9444\n"
          ]
        },
        {
          "output_type": "execute_result",
          "data": {
            "text/plain": [
              "[0.12101692706346512, 0.9444444179534912]"
            ]
          },
          "metadata": {},
          "execution_count": 47
        }
      ]
    },
    {
      "cell_type": "markdown",
      "metadata": {
        "id": "NiAwR86MA2_l"
      },
      "source": [
        "### Сеть GRU"
      ]
    },
    {
      "cell_type": "code",
      "metadata": {
        "id": "dbgVW71aA2_o"
      },
      "source": [
        "model_gru.load_weights(model_gru_save_path)"
      ],
      "execution_count": null,
      "outputs": []
    },
    {
      "cell_type": "code",
      "metadata": {
        "id": "oB-t_8fLA2_s",
        "colab": {
          "base_uri": "https://localhost:8080/"
        },
        "outputId": "43cd9855-03d3-43fc-cdf9-cc0c5c7520dc"
      },
      "source": [
        "model_gru.evaluate(x_test, y_test, verbose=1)"
      ],
      "execution_count": null,
      "outputs": [
        {
          "output_type": "stream",
          "name": "stdout",
          "text": [
            "2/2 [==============================] - 0s 8ms/step - loss: 0.1323 - accuracy: 0.9630\n"
          ]
        },
        {
          "output_type": "execute_result",
          "data": {
            "text/plain": [
              "[0.13232700526714325, 0.9629629850387573]"
            ]
          },
          "metadata": {},
          "execution_count": 49
        }
      ]
    },
    {
      "cell_type": "markdown",
      "metadata": {
        "id": "PJ2kNL9bgCcL"
      },
      "source": [
        "# Сеть кринж"
      ]
    },
    {
      "cell_type": "code",
      "metadata": {
        "id": "xg4Mrzm7gFsr"
      },
      "source": [
        "model.load_weights(model_save_path)"
      ],
      "execution_count": null,
      "outputs": []
    },
    {
      "cell_type": "code",
      "metadata": {
        "id": "Z2CAHIMEgGXS",
        "colab": {
          "base_uri": "https://localhost:8080/"
        },
        "outputId": "2dc9ca27-f4f5-4e4a-cfd0-3fcba2c73c9a"
      },
      "source": [
        "model.evaluate(x_test, y_test, verbose=1)"
      ],
      "execution_count": null,
      "outputs": [
        {
          "output_type": "stream",
          "name": "stdout",
          "text": [
            "2/2 [==============================] - 0s 5ms/step - loss: 0.1412 - accuracy: 0.9630\n"
          ]
        },
        {
          "output_type": "execute_result",
          "data": {
            "text/plain": [
              "[0.1412203460931778, 0.9629629850387573]"
            ]
          },
          "metadata": {},
          "execution_count": 51
        }
      ]
    },
    {
      "cell_type": "markdown",
      "metadata": {
        "id": "3xSOsTA1zq2U"
      },
      "source": [
        "## Полезные ссылки\n",
        "\n",
        "1. [Определение тональности текстов отзывов на сайте YELP одномерной сверточной нейросетью](https://colab.research.google.com/drive/1KWS-4MKKOIG7UhiCA58ZJcxwSLG5F6Wm).\n",
        "2. [Определение тональности текстов отзывов на сайте YELP сетью LSTM](https://colab.research.google.com/drive/19olgYyZ4N5fh8RIPtHxkso2N5HD1yg0X).\n",
        "3. [Использование командной строки Linux в Colab](https://colab.research.google.com/drive/1vFGZ2nDS0ukNGXPL-0avK097afYQILyq)."
      ]
    }
  ]
}